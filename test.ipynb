{
 "cells": [
  {
   "cell_type": "code",
   "execution_count": 1,
   "metadata": {},
   "outputs": [],
   "source": [
    "%load_ext autoreload\n",
    "%autoreload 2"
   ]
  },
  {
   "cell_type": "code",
   "execution_count": null,
   "metadata": {},
   "outputs": [],
   "source": [
    "# Import necessary libraries\n",
    "from kokoro import KPipeline\n",
    "from IPython.display import Audio\n",
    "import soundfile as sf\n",
    "\n",
    "# Initialize the pipeline with American English\n",
    "pipeline = KPipeline(lang_code='a')\n",
    "\n",
    "# Test text\n",
    "text = \"Hello! This is a test of the Kokoro text-to-speech system.\"\n",
    "\n",
    "# Generate audio\n",
    "generator = pipeline(text, voice='af_heart', speed=1)\n",
    "\n",
    "# Display the first (and only) audio segment\n",
    "for (text, phonemes, audio) in generator:\n",
    "    print(\"Text:\", text)\n",
    "    print(\"Phonemes:\", phonemes)\n",
    "    display(Audio(data=audio, rate=24000, autoplay=True))\n",
    "    # Optionally save the audio\n",
    "    sf.write('torch_output.wav', audio, 24000)"
   ]
  },
  {
   "cell_type": "code",
   "execution_count": null,
   "metadata": {},
   "outputs": [],
   "source": []
  }
 ],
 "metadata": {
  "kernelspec": {
   "display_name": ".venv",
   "language": "python",
   "name": "python3"
  },
  "language_info": {
   "codemirror_mode": {
    "name": "ipython",
    "version": 3
   },
   "file_extension": ".py",
   "mimetype": "text/x-python",
   "name": "python",
   "nbconvert_exporter": "python",
   "pygments_lexer": "ipython3",
   "version": "3.11.10"
  }
 },
 "nbformat": 4,
 "nbformat_minor": 2
}
